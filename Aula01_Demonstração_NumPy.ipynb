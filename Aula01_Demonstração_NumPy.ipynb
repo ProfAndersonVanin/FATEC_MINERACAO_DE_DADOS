{
  "nbformat": 4,
  "nbformat_minor": 0,
  "metadata": {
    "colab": {
      "provenance": [],
      "include_colab_link": true
    },
    "kernelspec": {
      "name": "python3",
      "display_name": "Python 3"
    },
    "language_info": {
      "name": "python"
    }
  },
  "cells": [
    {
      "cell_type": "markdown",
      "metadata": {
        "id": "view-in-github",
        "colab_type": "text"
      },
      "source": [
        "<a href=\"https://colab.research.google.com/github/ProfAndersonVanin/FATEC_MINERACAO_DE_DADOS/blob/main/Aula01_Demonstra%C3%A7%C3%A3o_NumPy.ipynb\" target=\"_parent\"><img src=\"https://colab.research.google.com/assets/colab-badge.svg\" alt=\"Open In Colab\"/></a>"
      ]
    },
    {
      "cell_type": "markdown",
      "source": [
        "![image.png](data:image/png;base64,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)"
      ],
      "metadata": {
        "id": "PpI_uiAiXUyO"
      }
    },
    {
      "cell_type": "markdown",
      "source": [
        "# **Demonstração NumPy**\n",
        "\n",
        "Aula 03 - Biblioteca NumPy\n",
        "\n",
        "Prof. Anderson Vanin"
      ],
      "metadata": {
        "id": "zcyPQR7FVmoz"
      }
    },
    {
      "cell_type": "markdown",
      "source": [
        "# Importar a biblioteca"
      ],
      "metadata": {
        "id": "LBQS5ETfYkql"
      }
    },
    {
      "cell_type": "code",
      "source": [
        "import numpy as np"
      ],
      "metadata": {
        "id": "Jl_SoH1TZIL9"
      },
      "execution_count": null,
      "outputs": []
    },
    {
      "cell_type": "markdown",
      "source": [
        "# Gerar dados aleatórios\n",
        "\n",
        "Gerar um ndarray de 2x3 (duas listas com 3 elementos)"
      ],
      "metadata": {
        "id": "9dpzJ5tHYu7t"
      }
    },
    {
      "cell_type": "code",
      "execution_count": null,
      "metadata": {
        "id": "CMWvpzr7VZZi"
      },
      "outputs": [],
      "source": [
        "dados = np.random.rand(2,3)"
      ]
    },
    {
      "cell_type": "code",
      "source": [
        "dados"
      ],
      "metadata": {
        "id": "NQ03K44xZxD8"
      },
      "execution_count": null,
      "outputs": []
    },
    {
      "cell_type": "markdown",
      "source": [
        "## Tipo do Array"
      ],
      "metadata": {
        "id": "RRIwOpmsZ19z"
      }
    },
    {
      "cell_type": "code",
      "source": [
        "dados.dtype"
      ],
      "metadata": {
        "id": "dGOCZA4DZ5H7"
      },
      "execution_count": null,
      "outputs": []
    },
    {
      "cell_type": "markdown",
      "source": [
        "## Tamanho e quantidade de dimensões"
      ],
      "metadata": {
        "id": "z3qySVgJZ_Nj"
      }
    },
    {
      "cell_type": "code",
      "source": [
        "dados.shape"
      ],
      "metadata": {
        "id": "3tO0nEmnaEDz"
      },
      "execution_count": null,
      "outputs": []
    },
    {
      "cell_type": "code",
      "source": [
        "dados.ndim"
      ],
      "metadata": {
        "id": "B9ZgvwA5aGdK"
      },
      "execution_count": null,
      "outputs": []
    },
    {
      "cell_type": "markdown",
      "source": [
        "# Criar ndarray usando a função array\n",
        "\n",
        "Ao criar o array a função array tenta utilizar o melhor tipo de dado"
      ],
      "metadata": {
        "id": "35HSeRHSaMKz"
      }
    },
    {
      "cell_type": "code",
      "source": [
        "lista = [1,2,5,7.8,1.25]"
      ],
      "metadata": {
        "id": "PnrWgf5AaWIk"
      },
      "execution_count": null,
      "outputs": []
    },
    {
      "cell_type": "code",
      "source": [
        "dados2 = np.array(lista)"
      ],
      "metadata": {
        "id": "ZCp7ZoDradWj"
      },
      "execution_count": null,
      "outputs": []
    },
    {
      "cell_type": "code",
      "source": [
        "dados2"
      ],
      "metadata": {
        "id": "VooDEroAaiG7"
      },
      "execution_count": null,
      "outputs": []
    },
    {
      "cell_type": "code",
      "source": [
        "lista2 = [[1,2,3,4],[4,3,2,1]]"
      ],
      "metadata": {
        "id": "WVzHVvdaan-r"
      },
      "execution_count": null,
      "outputs": []
    },
    {
      "cell_type": "code",
      "source": [
        "dados3 = np.array(lista2)"
      ],
      "metadata": {
        "id": "1poYXD1vat2r"
      },
      "execution_count": null,
      "outputs": []
    },
    {
      "cell_type": "code",
      "source": [
        "dados3"
      ],
      "metadata": {
        "id": "sChPDBJFaw8L"
      },
      "execution_count": null,
      "outputs": []
    },
    {
      "cell_type": "markdown",
      "source": [
        "## Outras maneiras de criar arrays"
      ],
      "metadata": {
        "id": "bbQ9zMR5a0oi"
      }
    },
    {
      "cell_type": "code",
      "source": [
        "dadoszero = np.zeros(10)"
      ],
      "metadata": {
        "id": "B0RA89coa4iz"
      },
      "execution_count": null,
      "outputs": []
    },
    {
      "cell_type": "code",
      "source": [
        "dadoszero"
      ],
      "metadata": {
        "id": "7O262yala-pT"
      },
      "execution_count": null,
      "outputs": []
    },
    {
      "cell_type": "code",
      "source": [
        "dadoszero2 = np.zeros((2,3))"
      ],
      "metadata": {
        "id": "kqSTINE2bBTL"
      },
      "execution_count": null,
      "outputs": []
    },
    {
      "cell_type": "code",
      "source": [
        "dadoszero2"
      ],
      "metadata": {
        "id": "eNenL5fCbHsR"
      },
      "execution_count": null,
      "outputs": []
    },
    {
      "cell_type": "code",
      "source": [
        "dadosum = np.ones(5)"
      ],
      "metadata": {
        "id": "CJhl1dIMbJRa"
      },
      "execution_count": null,
      "outputs": []
    },
    {
      "cell_type": "code",
      "source": [
        "dadosum"
      ],
      "metadata": {
        "id": "KRvkdHuvbQZn"
      },
      "execution_count": null,
      "outputs": []
    },
    {
      "cell_type": "code",
      "source": [
        "dadosseq = np.arange(10)"
      ],
      "metadata": {
        "id": "aB1bRbUTbRni"
      },
      "execution_count": null,
      "outputs": []
    },
    {
      "cell_type": "code",
      "source": [
        "dadosseq"
      ],
      "metadata": {
        "id": "26W876ZBbZ6a"
      },
      "execution_count": null,
      "outputs": []
    },
    {
      "cell_type": "code",
      "source": [
        "dadosseq2 = np.arange(0,20,2)"
      ],
      "metadata": {
        "id": "kgCs1e04bbRb"
      },
      "execution_count": null,
      "outputs": []
    },
    {
      "cell_type": "code",
      "source": [
        "dadosseq2"
      ],
      "metadata": {
        "id": "1Xg88L49bl_J"
      },
      "execution_count": null,
      "outputs": []
    },
    {
      "cell_type": "code",
      "source": [
        "dadosseq.dtype"
      ],
      "metadata": {
        "id": "h3gCBofZbnf9"
      },
      "execution_count": null,
      "outputs": []
    },
    {
      "cell_type": "markdown",
      "source": [
        "## Transformando tipos"
      ],
      "metadata": {
        "id": "mvFi3lVnbwIS"
      }
    },
    {
      "cell_type": "code",
      "source": [
        "dadosseqf = dadosseq.astype(np.float64)"
      ],
      "metadata": {
        "id": "nfIobk0Obrhs"
      },
      "execution_count": null,
      "outputs": []
    },
    {
      "cell_type": "code",
      "source": [
        "dadosseqf"
      ],
      "metadata": {
        "id": "ntNLuu8Kb6U1"
      },
      "execution_count": null,
      "outputs": []
    },
    {
      "cell_type": "code",
      "source": [
        "dadosseqf.dtype"
      ],
      "metadata": {
        "id": "81er2g74b7tZ"
      },
      "execution_count": null,
      "outputs": []
    },
    {
      "cell_type": "markdown",
      "source": [
        "## Aritmética com Arrays"
      ],
      "metadata": {
        "id": "I7kTipACcEgr"
      }
    },
    {
      "cell_type": "code",
      "source": [
        "dados4 = np.array([[1,2,3],[4,5,6]])"
      ],
      "metadata": {
        "id": "WatxGTwhcBeA"
      },
      "execution_count": null,
      "outputs": []
    },
    {
      "cell_type": "code",
      "source": [
        "dados4"
      ],
      "metadata": {
        "id": "M7lJ_PHvcQE-"
      },
      "execution_count": null,
      "outputs": []
    },
    {
      "cell_type": "code",
      "source": [
        "dados4 * dados4"
      ],
      "metadata": {
        "id": "c3a2kBjNcRNe"
      },
      "execution_count": null,
      "outputs": []
    },
    {
      "cell_type": "markdown",
      "source": [
        "`Nesse caso ele mostra a multiplicação porém sem alterar o valor original do array`"
      ],
      "metadata": {
        "id": "S7bL528EcZFS"
      }
    },
    {
      "cell_type": "code",
      "source": [
        "dados4 - dados4"
      ],
      "metadata": {
        "id": "gzjqQafncUYs"
      },
      "execution_count": null,
      "outputs": []
    },
    {
      "cell_type": "code",
      "source": [
        "1 / dados4"
      ],
      "metadata": {
        "id": "a1QyDG5Lcomj"
      },
      "execution_count": null,
      "outputs": []
    },
    {
      "cell_type": "code",
      "source": [
        "dados5 = dados4 + dados4"
      ],
      "metadata": {
        "id": "g0CLim7Dcqzm"
      },
      "execution_count": null,
      "outputs": []
    },
    {
      "cell_type": "code",
      "source": [
        "dados5"
      ],
      "metadata": {
        "id": "22Yhsn-Ecu0a"
      },
      "execution_count": null,
      "outputs": []
    },
    {
      "cell_type": "code",
      "source": [
        "dados4"
      ],
      "metadata": {
        "id": "vALFYSMWcvpl"
      },
      "execution_count": null,
      "outputs": []
    },
    {
      "cell_type": "code",
      "source": [
        "dados5 > dados4"
      ],
      "metadata": {
        "id": "cy0mu91jcya3"
      },
      "execution_count": null,
      "outputs": []
    },
    {
      "cell_type": "markdown",
      "source": [
        "# Indexação"
      ],
      "metadata": {
        "id": "7YUbhWbNc40q"
      }
    },
    {
      "cell_type": "code",
      "source": [
        "dadosseq"
      ],
      "metadata": {
        "id": "j4ZTdDaic1f6"
      },
      "execution_count": null,
      "outputs": []
    },
    {
      "cell_type": "code",
      "source": [
        "dadosseq[5]"
      ],
      "metadata": {
        "id": "4Kjy7Adqc8sV"
      },
      "execution_count": null,
      "outputs": []
    },
    {
      "cell_type": "markdown",
      "source": [
        "Diferente de uma lista python, um recorte (fatia) de um ndarray, sofrerá broadcast - é como se fosse uma view de banco de dados.\n",
        "\n",
        "Com conjuntos imensos de dados isso é uma grande vantagem em relação a perfomance"
      ],
      "metadata": {
        "id": "nc8ArZZvdCYK"
      }
    },
    {
      "cell_type": "code",
      "source": [
        "dadosseq[3:6]"
      ],
      "metadata": {
        "id": "BM3UbEDCc_CA"
      },
      "execution_count": null,
      "outputs": []
    },
    {
      "cell_type": "markdown",
      "source": [
        "***Aqui ele pega dados de `dadosseq` da posição 3 até uma antes da posição 6***"
      ],
      "metadata": {
        "id": "UWYCSNCbdkdQ"
      }
    },
    {
      "cell_type": "code",
      "source": [
        "dadosseq[3:6] = 20"
      ],
      "metadata": {
        "id": "6h2t2FUWdiyz"
      },
      "execution_count": null,
      "outputs": []
    },
    {
      "cell_type": "code",
      "source": [
        "dadosseq"
      ],
      "metadata": {
        "id": "Cctw9Tx1d2OD"
      },
      "execution_count": null,
      "outputs": []
    },
    {
      "cell_type": "code",
      "source": [
        "fatiadados = dadosseq[2:4]"
      ],
      "metadata": {
        "id": "JZaehFXbd3Qi"
      },
      "execution_count": null,
      "outputs": []
    },
    {
      "cell_type": "code",
      "source": [],
      "metadata": {
        "id": "dTUxuLwbeW0n"
      },
      "execution_count": null,
      "outputs": []
    },
    {
      "cell_type": "code",
      "source": [
        "fatiadados"
      ],
      "metadata": {
        "id": "7y5_g59Ld8lk"
      },
      "execution_count": null,
      "outputs": []
    },
    {
      "cell_type": "code",
      "source": [
        "fatiadados[1] = 2000"
      ],
      "metadata": {
        "id": "EwLjpnEEd9lx"
      },
      "execution_count": null,
      "outputs": []
    },
    {
      "cell_type": "code",
      "source": [
        "fatiadados"
      ],
      "metadata": {
        "id": "8csFFpIreGps"
      },
      "execution_count": null,
      "outputs": []
    },
    {
      "cell_type": "code",
      "source": [
        "dadosseq"
      ],
      "metadata": {
        "id": "nRUAZiTGeHzO"
      },
      "execution_count": null,
      "outputs": []
    },
    {
      "cell_type": "markdown",
      "source": [
        "**Broadcast**\n",
        "\n",
        "![image.png](data:image/png;base64,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)"
      ],
      "metadata": {
        "id": "C288DILseXmp"
      }
    },
    {
      "cell_type": "code",
      "source": [
        "fatiadados[:] = 333"
      ],
      "metadata": {
        "id": "DkIC6QOheLt3"
      },
      "execution_count": null,
      "outputs": []
    },
    {
      "cell_type": "code",
      "source": [
        "dadosseq"
      ],
      "metadata": {
        "id": "owfRU8_Nemny"
      },
      "execution_count": null,
      "outputs": []
    },
    {
      "cell_type": "markdown",
      "source": [
        "## Copiar Dados\n",
        "\n",
        "> Aqui não teremos o broadcast\n",
        "\n"
      ],
      "metadata": {
        "id": "9l4ZsR7mesp_"
      }
    },
    {
      "cell_type": "code",
      "source": [
        "fatia2 = dadosseq[2:4].copy()"
      ],
      "metadata": {
        "id": "TXkoR6OKepaK"
      },
      "execution_count": null,
      "outputs": []
    },
    {
      "cell_type": "code",
      "source": [
        "fatia2"
      ],
      "metadata": {
        "id": "maejPbyqfADc"
      },
      "execution_count": null,
      "outputs": []
    },
    {
      "cell_type": "code",
      "source": [
        "fatia2[:] = 111"
      ],
      "metadata": {
        "id": "cO7gmkJSfA7d"
      },
      "execution_count": null,
      "outputs": []
    },
    {
      "cell_type": "code",
      "source": [
        "fatia2"
      ],
      "metadata": {
        "id": "9mAWPSZzfDx-"
      },
      "execution_count": null,
      "outputs": []
    },
    {
      "cell_type": "code",
      "source": [
        "dadosseq"
      ],
      "metadata": {
        "id": "HryfOSHyfE1K"
      },
      "execution_count": null,
      "outputs": []
    },
    {
      "cell_type": "markdown",
      "source": [
        "# Arrays com mais de uma dimensão"
      ],
      "metadata": {
        "id": "tZdmJZ7yfJS3"
      }
    },
    {
      "cell_type": "code",
      "source": [
        "dados6 = np.array([[1,2,3],[4,5,6],[7,8,9]])"
      ],
      "metadata": {
        "id": "ZBhTncO9fGmu"
      },
      "execution_count": null,
      "outputs": []
    },
    {
      "cell_type": "code",
      "source": [
        "dados6"
      ],
      "metadata": {
        "id": "Yn61RxAwfWaY"
      },
      "execution_count": null,
      "outputs": []
    },
    {
      "cell_type": "code",
      "source": [
        "dados6[1,2]"
      ],
      "metadata": {
        "id": "iWbdHV6UfXR6"
      },
      "execution_count": null,
      "outputs": []
    },
    {
      "cell_type": "markdown",
      "source": [
        "# Máscaras"
      ],
      "metadata": {
        "id": "28zSedV8fhwg"
      }
    },
    {
      "cell_type": "code",
      "source": [
        "dadosseq"
      ],
      "metadata": {
        "id": "CxFCphOMfaSL"
      },
      "execution_count": null,
      "outputs": []
    },
    {
      "cell_type": "code",
      "source": [
        "mascara = (dadosseq<100)"
      ],
      "metadata": {
        "id": "AVC6k0MDfmtT"
      },
      "execution_count": null,
      "outputs": []
    },
    {
      "cell_type": "code",
      "source": [
        "mascara"
      ],
      "metadata": {
        "id": "CLamh1S1frnv"
      },
      "execution_count": null,
      "outputs": []
    },
    {
      "cell_type": "code",
      "source": [
        "dadosseq[dadosseq<20]=888"
      ],
      "metadata": {
        "id": "oaFYjYrYfsea"
      },
      "execution_count": null,
      "outputs": []
    },
    {
      "cell_type": "code",
      "source": [
        "dadosseq"
      ],
      "metadata": {
        "id": "1yLh5e8Jf4Cc"
      },
      "execution_count": null,
      "outputs": []
    },
    {
      "cell_type": "markdown",
      "source": [
        "# Transposição"
      ],
      "metadata": {
        "id": "dPXLwkGff_gv"
      }
    },
    {
      "cell_type": "code",
      "source": [
        "dados7 = np.arange(15).reshape((3,5))"
      ],
      "metadata": {
        "id": "zGdG9Vdqf5FV"
      },
      "execution_count": null,
      "outputs": []
    },
    {
      "cell_type": "code",
      "source": [
        "dados7"
      ],
      "metadata": {
        "id": "-_Yqsy0EgORq"
      },
      "execution_count": null,
      "outputs": []
    },
    {
      "cell_type": "code",
      "source": [
        "dados7.T"
      ],
      "metadata": {
        "id": "siL5RXoKgPSW"
      },
      "execution_count": null,
      "outputs": []
    },
    {
      "cell_type": "markdown",
      "source": [
        "# Multiplicação de matrizes com Dots"
      ],
      "metadata": {
        "id": "48cisPdzgVRn"
      }
    },
    {
      "cell_type": "code",
      "source": [
        "np.dot(dados7.T,dados7)"
      ],
      "metadata": {
        "id": "RsYaFYF6gSe9"
      },
      "execution_count": null,
      "outputs": []
    },
    {
      "cell_type": "markdown",
      "source": [
        "Vejam que há muitas outras funções que podem ser exploradas como: sin, cos, power, mod, sqrt entre outras"
      ],
      "metadata": {
        "id": "Xog1tw9Vgixu"
      }
    }
  ]
}